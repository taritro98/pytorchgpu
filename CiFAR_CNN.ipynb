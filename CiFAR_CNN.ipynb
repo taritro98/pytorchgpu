{
  "nbformat": 4,
  "nbformat_minor": 0,
  "metadata": {
    "colab": {
      "name": "CiFAR CNN.ipynb",
      "provenance": [],
      "toc_visible": true
    },
    "kernelspec": {
      "name": "python3",
      "display_name": "Python 3"
    },
    "accelerator": "GPU"
  },
  "cells": [
    {
      "cell_type": "code",
      "metadata": {
        "id": "HlgcqJtencva",
        "colab_type": "code",
        "colab": {}
      },
      "source": [
        "import torch\n",
        "import matplotlib.pyplot as plt\n",
        "import numpy as np\n",
        "import torch.nn as nn"
      ],
      "execution_count": 0,
      "outputs": []
    },
    {
      "cell_type": "code",
      "metadata": {
        "id": "8KoJD1Jgnk3v",
        "colab_type": "code",
        "colab": {}
      },
      "source": [
        "import torchvision\n",
        "import torchvision.transforms as transforms"
      ],
      "execution_count": 0,
      "outputs": []
    },
    {
      "cell_type": "code",
      "metadata": {
        "id": "4C5ov9cB8unf",
        "colab_type": "code",
        "outputId": "251e53ad-8d7e-4890-b853-60fe68874c16",
        "colab": {
          "base_uri": "https://localhost:8080/",
          "height": 69
        }
      },
      "source": [
        "batch_size = 8\n",
        "trainset = torchvision.datasets.CIFAR100(root='./data', train=True, download=True, transform=transforms.ToTensor())\n",
        "trainloader = torch.utils.data.DataLoader(trainset, batch_size=batch_size, shuffle=True)"
      ],
      "execution_count": 0,
      "outputs": [
        {
          "output_type": "stream",
          "text": [
            "\r0it [00:00, ?it/s]"
          ],
          "name": "stderr"
        },
        {
          "output_type": "stream",
          "text": [
            "Downloading https://www.cs.toronto.edu/~kriz/cifar-100-python.tar.gz to ./data/cifar-100-python.tar.gz\n"
          ],
          "name": "stdout"
        },
        {
          "output_type": "stream",
          "text": [
            "169009152it [00:06, 27110801.93it/s]                               \n"
          ],
          "name": "stderr"
        },
        {
          "output_type": "stream",
          "text": [
            "Extracting ./data/cifar-100-python.tar.gz to ./data\n"
          ],
          "name": "stdout"
        }
      ]
    },
    {
      "cell_type": "code",
      "metadata": {
        "id": "ViHDkoS3wAZP",
        "colab_type": "code",
        "colab": {}
      },
      "source": [
        "trainloader = torch.utils.data.DataLoader(trainset, batch_size=16, shuffle=True)"
      ],
      "execution_count": 0,
      "outputs": []
    },
    {
      "cell_type": "code",
      "metadata": {
        "id": "iNJgdzacxulK",
        "colab_type": "code",
        "outputId": "be1630c4-23fb-4a3c-fb96-2e1bdb7e5552",
        "colab": {
          "base_uri": "https://localhost:8080/",
          "height": 69
        }
      },
      "source": [
        "dataiter = iter(trainloader)\n",
        "images,labels = dataiter.next()\n",
        "\n",
        "print(images.shape)\n",
        "\n",
        "print(images[0].shape)\n",
        "print(labels[0].item())"
      ],
      "execution_count": 0,
      "outputs": [
        {
          "output_type": "stream",
          "text": [
            "torch.Size([16, 3, 32, 32])\n",
            "torch.Size([3, 32, 32])\n",
            "74\n"
          ],
          "name": "stdout"
        }
      ]
    },
    {
      "cell_type": "markdown",
      "metadata": {
        "id": "HBeBM6C15JGp",
        "colab_type": "text"
      },
      "source": [
        "## Visualise"
      ]
    },
    {
      "cell_type": "code",
      "metadata": {
        "id": "B2cE24WHEqlF",
        "colab_type": "code",
        "outputId": "efc98293-470e-4b78-e2a8-7853ed1fb90d",
        "colab": {
          "base_uri": "https://localhost:8080/",
          "height": 34
        }
      },
      "source": [
        "img = images[0]\n",
        "type(img)"
      ],
      "execution_count": 0,
      "outputs": [
        {
          "output_type": "execute_result",
          "data": {
            "text/plain": [
              "torch.Tensor"
            ]
          },
          "metadata": {
            "tags": []
          },
          "execution_count": 7
        }
      ]
    },
    {
      "cell_type": "code",
      "metadata": {
        "id": "1ySgQxt-EvKQ",
        "colab_type": "code",
        "outputId": "cf41b8a0-243d-479e-dd76-886291b0b726",
        "colab": {
          "base_uri": "https://localhost:8080/",
          "height": 34
        }
      },
      "source": [
        "npimg = img.numpy()\n",
        "print(npimg.shape)"
      ],
      "execution_count": 0,
      "outputs": [
        {
          "output_type": "stream",
          "text": [
            "(3, 32, 32)\n"
          ],
          "name": "stdout"
        }
      ]
    },
    {
      "cell_type": "code",
      "metadata": {
        "id": "3ToENerBE0Tx",
        "colab_type": "code",
        "outputId": "c6294f87-25b1-4463-c514-516405b4ee76",
        "colab": {
          "base_uri": "https://localhost:8080/",
          "height": 34
        }
      },
      "source": [
        "npimg = np.transpose(npimg, (1,2,0))\n",
        "npimg.shape"
      ],
      "execution_count": 0,
      "outputs": [
        {
          "output_type": "execute_result",
          "data": {
            "text/plain": [
              "(32, 32, 3)"
            ]
          },
          "metadata": {
            "tags": []
          },
          "execution_count": 9
        }
      ]
    },
    {
      "cell_type": "code",
      "metadata": {
        "id": "hKXxgtUBE8rJ",
        "colab_type": "code",
        "outputId": "07295999-c2a5-4326-f5a7-fda51059bacc",
        "colab": {
          "base_uri": "https://localhost:8080/",
          "height": 105
        }
      },
      "source": [
        "plt.figure(figsize = (1,1))\n",
        "plt.imshow(npimg)\n",
        "plt.show()"
      ],
      "execution_count": 0,
      "outputs": [
        {
          "output_type": "display_data",
          "data": {
            "image/png": "[encoded data removed]",
            "text/plain": [
              "<Figure size 72x72 with 1 Axes>"
            ]
          },
          "metadata": {
            "tags": []
          }
        }
      ]
    },
    {
      "cell_type": "code",
      "metadata": {
        "id": "59Y0xz_cFxm6",
        "colab_type": "code",
        "colab": {}
      },
      "source": [
        "def imshow(img):\n",
        "  npimg = img.numpy()\n",
        "  plt.imshow(np.transpose(npimg,(1,2,0)))\n",
        "  plt.show()"
      ],
      "execution_count": 0,
      "outputs": []
    },
    {
      "cell_type": "code",
      "metadata": {
        "id": "ki6twLC5FQvE",
        "colab_type": "code",
        "outputId": "a339b159-a598-443d-baf9-f0d00655fd0b",
        "colab": {
          "base_uri": "https://localhost:8080/",
          "height": 137
        }
      },
      "source": [
        "imshow(torchvision.utils.make_grid(images))"
      ],
      "execution_count": 0,
      "outputs": [
        {
          "output_type": "display_data",
          "data": {
            "image/png": "[encoded data removed]",
            "text/plain": [
              "<Figure size 432x288 with 1 Axes>"
            ]
          },
          "metadata": {
            "tags": []
          }
        }
      ]
    },
    {
      "cell_type": "markdown",
      "metadata": {
        "id": "Q7t0MukRgbQX",
        "colab_type": "text"
      },
      "source": [
        "## LeNet Model"
      ]
    },
    {
      "cell_type": "code",
      "metadata": {
        "id": "NJq9hVLagdpR",
        "colab_type": "code",
        "colab": {}
      },
      "source": [
        "# class LeNet(nn.Module):\n",
        "#   def __init__(self):\n",
        "#     super(LeNet, self).__init__()\n",
        "#     self.cnn_model = nn.Sequential(\n",
        "#             nn.Conv2d(3, 6, 5),        \n",
        "#             nn.Tanh(),\n",
        "#             nn.AvgPool2d(2, stride=2),  \n",
        "#             nn.Conv2d(6, 16, 5),        \n",
        "#             nn.Tanh(),\n",
        "#             nn.AvgPool2d(2, stride=2) \n",
        "#     )\n",
        "#     self.fc_model = nn.Sequential(\n",
        "#               nn.Linear(400,120),         \n",
        "#               nn.Tanh(),\n",
        "#               nn.Linear(120,84),          \n",
        "#               nn.Tanh(),\n",
        "#               nn.Linear(84,100)            \n",
        "#           )\n",
        "          \n",
        "#   def forward(self, x):\n",
        "#         x = self.cnn_model(x)\n",
        "#         x = x.view(x.size(0), -1)\n",
        "#         x = self.fc_model(x)\n",
        "#         return x"
      ],
      "execution_count": 0,
      "outputs": []
    },
    {
      "cell_type": "code",
      "metadata": {
        "id": "XGjLkrGEC2ND",
        "colab_type": "code",
        "colab": {}
      },
      "source": [
        "class LeNet(nn.Module):\n",
        "  def __init__(self):\n",
        "    super(LeNet, self).__init__()\n",
        "    self.cnn_model = nn.Sequential(\n",
        "            nn.Conv2d(3, 6, 5),        \n",
        "            nn.RReLU(),\n",
        "            nn.AvgPool2d(2, stride=2),  \n",
        "            nn.Conv2d(6, 16, 5),        \n",
        "            nn.RReLU(),\n",
        "            nn.AvgPool2d(2, stride=2) \n",
        "    )\n",
        "    self.fc_model = nn.Sequential(\n",
        "              nn.Linear(400,120),         \n",
        "              nn.RReLU(),\n",
        "              nn.Linear(120,84),          \n",
        "              nn.RReLU(),\n",
        "              nn.Linear(84,100)            \n",
        "          )\n",
        "          \n",
        "  def forward(self, x):\n",
        "        x = self.cnn_model(x)\n",
        "        x = x.view(x.size(0), -1)\n",
        "        x = self.fc_model(x)\n",
        "        return x"
      ],
      "execution_count": 0,
      "outputs": []
    },
    {
      "cell_type": "code",
      "metadata": {
        "id": "fSrEIfDG7nzd",
        "colab_type": "code",
        "outputId": "df2ce313-5d1b-457d-a768-44d06f121e40",
        "colab": {
          "base_uri": "https://localhost:8080/",
          "height": 52
        }
      },
      "source": [
        "batch_size = 128\n",
        "trainset = torchvision.datasets.CIFAR100(root='./data', train=True, download=True, transform=transforms.ToTensor())\n",
        "trainloader = torch.utils.data.DataLoader(trainset, batch_size=batch_size, shuffle=True)\n",
        "testset = torchvision.datasets.CIFAR100(root='./data', train=False, download=True, transform=transforms.ToTensor())\n",
        "testloader = torch.utils.data.DataLoader(testset, batch_size=batch_size, shuffle=False)"
      ],
      "execution_count": 0,
      "outputs": [
        {
          "output_type": "stream",
          "text": [
            "Files already downloaded and verified\n",
            "Files already downloaded and verified\n"
          ],
          "name": "stdout"
        }
      ]
    },
    {
      "cell_type": "code",
      "metadata": {
        "id": "vFJ5LUN77xVq",
        "colab_type": "code",
        "colab": {}
      },
      "source": [
        "# def evaluation(dataloader):\n",
        "#     total, correct = 0, 0\n",
        "#     for data in dataloader:\n",
        "#         inputs, labels = data\n",
        "#         outputs = net(inputs)\n",
        "#         _, pred = torch.max(outputs.data, 1)\n",
        "#         total += labels.size(0)\n",
        "#         correct += (pred == labels).sum().item()\n",
        "#     return 100 * correct / total"
      ],
      "execution_count": 0,
      "outputs": []
    },
    {
      "cell_type": "code",
      "metadata": {
        "id": "nkbTHqLUhU7F",
        "colab_type": "code",
        "colab": {}
      },
      "source": [
        "net = LeNet()"
      ],
      "execution_count": 0,
      "outputs": []
    },
    {
      "cell_type": "code",
      "metadata": {
        "id": "_kINUEwg74o0",
        "colab_type": "code",
        "colab": {}
      },
      "source": [
        "import torch.optim as optim\n",
        "\n",
        "loss_fn = nn.CrossEntropyLoss()\n",
        "opt = optim.Adam(net.parameters())"
      ],
      "execution_count": 0,
      "outputs": []
    },
    {
      "cell_type": "markdown",
      "metadata": {
        "id": "gKFVPNeC_g_t",
        "colab_type": "text"
      },
      "source": [
        "## Training without GPU"
      ]
    },
    {
      "cell_type": "code",
      "metadata": {
        "id": "-VrBjuSc8EP8",
        "colab_type": "code",
        "colab": {}
      },
      "source": [
        "# %%time\n",
        "# loss_arr = []\n",
        "# loss_epoch_arr = []\n",
        "# max_epochs = 16\n",
        "\n",
        "# for epoch in range(max_epochs):\n",
        "\n",
        "#     for i, data in enumerate(trainloader, 0):\n",
        "\n",
        "#         inputs, labels = data\n",
        "\n",
        "#         opt.zero_grad()\n",
        "\n",
        "#         outputs = net(inputs)\n",
        "#         loss = loss_fn(outputs, labels)\n",
        "#         loss.backward()\n",
        "#         opt.step()\n",
        "        \n",
        "#         loss_arr.append(loss.item())\n",
        "        \n",
        "#     loss_epoch_arr.append(loss.item())\n",
        "        \n",
        "#     print('Epoch: %d/%d, Test acc: %0.2f, Train acc: %0.2f' % (epoch, max_epochs, evaluation(testloader), evaluation(trainloader)))\n",
        "    \n",
        "    \n",
        "# plt.plot(loss_epoch_arr)\n",
        "# plt.show()"
      ],
      "execution_count": 0,
      "outputs": []
    },
    {
      "cell_type": "markdown",
      "metadata": {
        "id": "eEmyEWev_oVR",
        "colab_type": "text"
      },
      "source": [
        "## Training with GPU"
      ]
    },
    {
      "cell_type": "code",
      "metadata": {
        "id": "FNjucqvB_nE7",
        "colab_type": "code",
        "outputId": "7dfb8482-d877-44d4-b8b1-79b87a581f79",
        "colab": {
          "base_uri": "https://localhost:8080/",
          "height": 34
        }
      },
      "source": [
        "device = torch.device(\"cuda:0\" if torch.cuda.is_available() else \"cpu\")\n",
        "print(device)"
      ],
      "execution_count": 0,
      "outputs": [
        {
          "output_type": "stream",
          "text": [
            "cuda:0\n"
          ],
          "name": "stdout"
        }
      ]
    },
    {
      "cell_type": "code",
      "metadata": {
        "id": "3a2p6aAkheLH",
        "colab_type": "code",
        "colab": {}
      },
      "source": [
        "def evaluation(dataloader):\n",
        "    total, correct = 0, 0\n",
        "    for data in dataloader:\n",
        "        inputs, labels = data\n",
        "        inputs, labels = inputs.to(device), labels.to(device)\n",
        "        outputs = net(inputs)\n",
        "        _, pred = torch.max(outputs.data, 1)\n",
        "        total += labels.size(0)\n",
        "        correct += (pred == labels).sum().item()\n",
        "    return 100 * correct / total"
      ],
      "execution_count": 0,
      "outputs": []
    },
    {
      "cell_type": "code",
      "metadata": {
        "id": "yTeqFtLVAA_-",
        "colab_type": "code",
        "colab": {}
      },
      "source": [
        "net = LeNet().to(device)\n",
        "loss_fn = nn.CrossEntropyLoss()\n",
        "opt = optim.Adam(net.parameters())"
      ],
      "execution_count": 0,
      "outputs": []
    },
    {
      "cell_type": "code",
      "metadata": {
        "id": "eJjM-nvNAFmg",
        "colab_type": "code",
        "outputId": "a96a91b7-aa17-461e-d0ff-2caa6365ac8f",
        "colab": {
          "base_uri": "https://localhost:8080/",
          "height": 573
        }
      },
      "source": [
        "%%time\n",
        "max_epochs = 30\n",
        "loss_arr = []\n",
        "loss_epoch_arr = []\n",
        "\n",
        "for epoch in range(max_epochs):\n",
        "\n",
        "    for i, data in enumerate(trainloader, 0):\n",
        "\n",
        "        inputs, labels = data\n",
        "        inputs, labels = inputs.to(device), labels.to(device)\n",
        "\n",
        "        opt.zero_grad()\n",
        "\n",
        "        outputs = net(inputs)\n",
        "        loss = loss_fn(outputs, labels)\n",
        "        loss.backward()\n",
        "        opt.step()\n",
        "\n",
        "        loss_arr.append(loss.item())\n",
        "        \n",
        "    loss_epoch_arr.append(loss.item())\n",
        "        \n",
        "    print('Epoch: %d/%d, Test acc: %0.2f, Train acc: %0.2f' % (epoch, max_epochs, evaluation(testloader), evaluation(trainloader)))\n",
        "\n",
        "    plt.plot(loss_epoch_arr)\n",
        "    plt.show()\n",
        "        \n",
        "    #print('Epoch: %d/%d' % (epoch, max_epochs))"
      ],
      "execution_count": 0,
      "outputs": [
        {
          "output_type": "stream",
          "text": [
            "Epoch: 0/30, Test acc: 24.75, Train acc: 27.35\n",
            "Epoch: 1/30, Test acc: 25.07, Train acc: 28.20\n",
            "Epoch: 2/30, Test acc: 25.23, Train acc: 29.03\n",
            "Epoch: 3/30, Test acc: 26.30, Train acc: 30.19\n",
            "Epoch: 4/30, Test acc: 25.52, Train acc: 29.88\n",
            "Epoch: 5/30, Test acc: 26.54, Train acc: 31.48\n",
            "Epoch: 6/30, Test acc: 27.69, Train acc: 32.57\n",
            "Epoch: 7/30, Test acc: 27.09, Train acc: 33.02\n",
            "Epoch: 8/30, Test acc: 27.59, Train acc: 33.49\n",
            "Epoch: 9/30, Test acc: 27.72, Train acc: 34.17\n",
            "Epoch: 10/30, Test acc: 27.75, Train acc: 34.64\n",
            "Epoch: 11/30, Test acc: 28.32, Train acc: 35.14\n",
            "Epoch: 12/30, Test acc: 28.84, Train acc: 35.97\n",
            "Epoch: 13/30, Test acc: 28.04, Train acc: 35.43\n",
            "Epoch: 14/30, Test acc: 29.00, Train acc: 36.99\n",
            "Epoch: 15/30, Test acc: 29.10, Train acc: 37.59\n",
            "Epoch: 16/30, Test acc: 29.68, Train acc: 38.45\n",
            "Epoch: 17/30, Test acc: 28.62, Train acc: 37.75\n",
            "Epoch: 18/30, Test acc: 29.28, Train acc: 38.76\n",
            "Epoch: 19/30, Test acc: 28.98, Train acc: 39.51\n",
            "Epoch: 20/30, Test acc: 28.99, Train acc: 38.41\n",
            "Epoch: 21/30, Test acc: 29.58, Train acc: 39.37\n",
            "Epoch: 22/30, Test acc: 29.52, Train acc: 39.92\n",
            "Epoch: 23/30, Test acc: 29.20, Train acc: 39.94\n",
            "Epoch: 24/30, Test acc: 30.22, Train acc: 41.08\n",
            "Epoch: 25/30, Test acc: 30.13, Train acc: 41.53\n",
            "Epoch: 26/30, Test acc: 30.48, Train acc: 41.51\n",
            "Epoch: 27/30, Test acc: 30.07, Train acc: 41.86\n",
            "Epoch: 28/30, Test acc: 30.03, Train acc: 41.72\n",
            "Epoch: 29/30, Test acc: 30.46, Train acc: 42.44\n",
            "CPU times: user 5min 25s, sys: 1.87 s, total: 5min 27s\n",
            "Wall time: 5min 28s\n"
          ],
          "name": "stdout"
        }
      ]
    }
  ]
}