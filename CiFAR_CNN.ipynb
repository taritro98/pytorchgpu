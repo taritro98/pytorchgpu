{
  "nbformat": 4,
  "nbformat_minor": 0,
  "metadata": {
    "colab": {
      "name": "CiFAR CNN.ipynb",
      "provenance": [],
      "toc_visible": true
    },
    "kernelspec": {
      "name": "python3",
      "display_name": "Python 3"
    },
    "accelerator": "GPU"
  },
  "cells": [
    {
      "cell_type": "code",
      "metadata": {
        "id": "HlgcqJtencva",
        "colab_type": "code",
        "colab": {}
      },
      "source": [
        "import torch\n",
        "import matplotlib.pyplot as plt\n",
        "import numpy as np\n",
        "import torch.nn as nn"
      ],
      "execution_count": 0,
      "outputs": []
    },
    {
      "cell_type": "code",
      "metadata": {
        "id": "8KoJD1Jgnk3v",
        "colab_type": "code",
        "colab": {}
      },
      "source": [
        "import torchvision\n",
        "import torchvision.transforms as transforms"
      ],
      "execution_count": 0,
      "outputs": []
    },
    {
      "cell_type": "code",
      "metadata": {
        "id": "4C5ov9cB8unf",
        "colab_type": "code",
        "colab": {
          "base_uri": "https://localhost:8080/",
          "height": 69
        },
        "outputId": "a4984438-3d28-4818-d072-e7ebd34b398e"
      },
      "source": [
        "batch_size = 8\n",
        "trainset = torchvision.datasets.CIFAR100(root='./data', train=True, download=True, transform=transforms.ToTensor())\n",
        "trainloader = torch.utils.data.DataLoader(trainset, batch_size=batch_size, shuffle=True)"
      ],
      "execution_count": 6,
      "outputs": [
        {
          "output_type": "stream",
          "text": [
            "\r0it [00:00, ?it/s]"
          ],
          "name": "stderr"
        },
        {
          "output_type": "stream",
          "text": [
            "Downloading https://www.cs.toronto.edu/~kriz/cifar-100-python.tar.gz to ./data/cifar-100-python.tar.gz\n"
          ],
          "name": "stdout"
        },
        {
          "output_type": "stream",
          "text": [
            "169009152it [00:02, 65764983.80it/s]                               \n"
          ],
          "name": "stderr"
        },
        {
          "output_type": "stream",
          "text": [
            "Extracting ./data/cifar-100-python.tar.gz to ./data\n"
          ],
          "name": "stdout"
        }
      ]
    },
    {
      "cell_type": "code",
      "metadata": {
        "id": "ViHDkoS3wAZP",
        "colab_type": "code",
        "colab": {}
      },
      "source": [
        "trainloader = torch.utils.data.DataLoader(trainset, batch_size=16, shuffle=True)"
      ],
      "execution_count": 0,
      "outputs": []
    },
    {
      "cell_type": "code",
      "metadata": {
        "id": "iNJgdzacxulK",
        "colab_type": "code",
        "outputId": "05391f44-a912-4cd1-d972-be1492aeccbf",
        "colab": {
          "base_uri": "https://localhost:8080/",
          "height": 69
        }
      },
      "source": [
        "dataiter = iter(trainloader)\n",
        "images,labels = dataiter.next()\n",
        "\n",
        "print(images.shape)\n",
        "\n",
        "print(images[0].shape)\n",
        "print(labels[0].item())"
      ],
      "execution_count": 8,
      "outputs": [
        {
          "output_type": "stream",
          "text": [
            "torch.Size([16, 3, 32, 32])\n",
            "torch.Size([3, 32, 32])\n",
            "19\n"
          ],
          "name": "stdout"
        }
      ]
    },
    {
      "cell_type": "markdown",
      "metadata": {
        "id": "HBeBM6C15JGp",
        "colab_type": "text"
      },
      "source": [
        "## Visualise"
      ]
    },
    {
      "cell_type": "code",
      "metadata": {
        "id": "B2cE24WHEqlF",
        "colab_type": "code",
        "outputId": "87e2f10d-f90a-4d51-e19b-c0aaf03d3146",
        "colab": {
          "base_uri": "https://localhost:8080/",
          "height": 34
        }
      },
      "source": [
        "img = images[0]\n",
        "type(img)"
      ],
      "execution_count": 9,
      "outputs": [
        {
          "output_type": "execute_result",
          "data": {
            "text/plain": [
              "torch.Tensor"
            ]
          },
          "metadata": {
            "tags": []
          },
          "execution_count": 9
        }
      ]
    },
    {
      "cell_type": "code",
      "metadata": {
        "id": "1ySgQxt-EvKQ",
        "colab_type": "code",
        "outputId": "8765ccb1-de17-465e-c102-e96394042312",
        "colab": {
          "base_uri": "https://localhost:8080/",
          "height": 34
        }
      },
      "source": [
        "npimg = img.numpy()\n",
        "print(npimg.shape)"
      ],
      "execution_count": 10,
      "outputs": [
        {
          "output_type": "stream",
          "text": [
            "(3, 32, 32)\n"
          ],
          "name": "stdout"
        }
      ]
    },
    {
      "cell_type": "code",
      "metadata": {
        "id": "3ToENerBE0Tx",
        "colab_type": "code",
        "outputId": "908b0b4f-df6c-47ce-cfe8-c2105846cd63",
        "colab": {
          "base_uri": "https://localhost:8080/",
          "height": 34
        }
      },
      "source": [
        "npimg = np.transpose(npimg, (1,2,0))\n",
        "npimg.shape"
      ],
      "execution_count": 11,
      "outputs": [
        {
          "output_type": "execute_result",
          "data": {
            "text/plain": [
              "(32, 32, 3)"
            ]
          },
          "metadata": {
            "tags": []
          },
          "execution_count": 11
        }
      ]
    },
    {
      "cell_type": "code",
      "metadata": {
        "id": "hKXxgtUBE8rJ",
        "colab_type": "code",
        "outputId": "8c065f35-6b26-4db5-caa3-49cd6497271f",
        "colab": {
          "base_uri": "https://localhost:8080/",
          "height": 105
        }
      },
      "source": [
        "plt.figure(figsize = (1,1))\n",
        "plt.imshow(npimg)\n",
        "plt.show()"
      ],
      "execution_count": 12,
      "outputs": [
        {
          "output_type": "display_data",
          "data": {
            "image/png": "[encoded data removed]",
            "text/plain": [
              "<Figure size 72x72 with 1 Axes>"
            ]
          },
          "metadata": {
            "tags": []
          }
        }
      ]
    },
    {
      "cell_type": "code",
      "metadata": {
        "id": "59Y0xz_cFxm6",
        "colab_type": "code",
        "colab": {}
      },
      "source": [
        "def imshow(img):\n",
        "  npimg = img.numpy()\n",
        "  plt.imshow(np.transpose(npimg,(1,2,0)))\n",
        "  plt.show()"
      ],
      "execution_count": 0,
      "outputs": []
    },
    {
      "cell_type": "code",
      "metadata": {
        "id": "ki6twLC5FQvE",
        "colab_type": "code",
        "outputId": "cbaa873c-0f16-439e-d4a0-46628fc70e13",
        "colab": {
          "base_uri": "https://localhost:8080/",
          "height": 137
        }
      },
      "source": [
        "imshow(torchvision.utils.make_grid(images))"
      ],
      "execution_count": 14,
      "outputs": [
        {
          "output_type": "display_data",
          "data": {
            "image/png": "[encoded data removed]",
            "text/plain": [
              "<Figure size 432x288 with 1 Axes>"
            ]
          },
          "metadata": {
            "tags": []
          }
        }
      ]
    },
    {
      "cell_type": "markdown",
      "metadata": {
        "id": "Q7t0MukRgbQX",
        "colab_type": "text"
      },
      "source": [
        "## LeNet Model"
      ]
    },
    {
      "cell_type": "code",
      "metadata": {
        "id": "NJq9hVLagdpR",
        "colab_type": "code",
        "colab": {}
      },
      "source": [
        "class LeNet(nn.Module):\n",
        "  def __init__(self):\n",
        "    super(LeNet, self).__init__()\n",
        "    self.cnn_model = nn.Sequential(\n",
        "            nn.Conv2d(3, 6, 5),        \n",
        "            nn.Tanh(),\n",
        "            nn.AvgPool2d(2, stride=2),  \n",
        "            nn.Conv2d(6, 16, 5),        \n",
        "            nn.Tanh(),\n",
        "            nn.AvgPool2d(2, stride=2) \n",
        "    )\n",
        "    self.fc_model = nn.Sequential(\n",
        "              nn.Linear(400,120),         \n",
        "              nn.Tanh(),\n",
        "              nn.Linear(120,84),          \n",
        "              nn.Tanh(),\n",
        "              nn.Linear(84,100)            \n",
        "          )\n",
        "          \n",
        "  def forward(self, x):\n",
        "        x = self.cnn_model(x)\n",
        "        x = x.view(x.size(0), -1)\n",
        "        x = self.fc_model(x)\n",
        "        return x"
      ],
      "execution_count": 0,
      "outputs": []
    },
    {
      "cell_type": "code",
      "metadata": {
        "id": "XGjLkrGEC2ND",
        "colab_type": "code",
        "colab": {}
      },
      "source": [
        "# class LeNet(nn.Module):\n",
        "#   def __init__(self):\n",
        "#     super(LeNet, self).__init__()\n",
        "#     self.cnn_model = nn.Sequential(\n",
        "#             nn.Conv2d(3, 6, 5),        \n",
        "#             nn.ReLU(),\n",
        "#             nn.AvgPool2d(2, stride=2),  \n",
        "#             nn.Conv2d(6, 16, 5),        \n",
        "#             nn.ReLU(),\n",
        "#             nn.AvgPool2d(2, stride=2) \n",
        "#     )\n",
        "#     self.fc_model = nn.Sequential(\n",
        "#               nn.Linear(400,120),         \n",
        "#               nn.ReLU(),\n",
        "#               nn.Linear(120,84),          \n",
        "#               nn.ReLU(),\n",
        "#               nn.Linear(84,100)            \n",
        "#           )\n",
        "          \n",
        "#   def forward(self, x):\n",
        "#         x = self.cnn_model(x)\n",
        "#         x = x.view(x.size(0), -1)\n",
        "#         x = self.fc_model(x)\n",
        "#         return x"
      ],
      "execution_count": 0,
      "outputs": []
    },
    {
      "cell_type": "code",
      "metadata": {
        "id": "fSrEIfDG7nzd",
        "colab_type": "code",
        "outputId": "58f10a74-5731-41d0-b109-585f9937e5e9",
        "colab": {
          "base_uri": "https://localhost:8080/",
          "height": 52
        }
      },
      "source": [
        "batch_size = 128\n",
        "trainset = torchvision.datasets.CIFAR100(root='./data', train=True, download=True, transform=transforms.ToTensor())\n",
        "trainloader = torch.utils.data.DataLoader(trainset, batch_size=batch_size, shuffle=True)\n",
        "testset = torchvision.datasets.CIFAR100(root='./data', train=False, download=True, transform=transforms.ToTensor())\n",
        "testloader = torch.utils.data.DataLoader(testset, batch_size=batch_size, shuffle=False)"
      ],
      "execution_count": 17,
      "outputs": [
        {
          "output_type": "stream",
          "text": [
            "Files already downloaded and verified\n",
            "Files already downloaded and verified\n"
          ],
          "name": "stdout"
        }
      ]
    },
    {
      "cell_type": "code",
      "metadata": {
        "id": "vFJ5LUN77xVq",
        "colab_type": "code",
        "colab": {}
      },
      "source": [
        "def evaluation(dataloader):\n",
        "    total, correct = 0, 0\n",
        "    for data in dataloader:\n",
        "        inputs, labels = data\n",
        "        outputs = net(inputs)\n",
        "        _, pred = torch.max(outputs.data, 1)\n",
        "        total += labels.size(0)\n",
        "        correct += (pred == labels).sum().item()\n",
        "    return 100 * correct / total"
      ],
      "execution_count": 0,
      "outputs": []
    },
    {
      "cell_type": "code",
      "metadata": {
        "id": "nkbTHqLUhU7F",
        "colab_type": "code",
        "colab": {}
      },
      "source": [
        "net = LeNet()"
      ],
      "execution_count": 0,
      "outputs": []
    },
    {
      "cell_type": "code",
      "metadata": {
        "id": "_kINUEwg74o0",
        "colab_type": "code",
        "colab": {}
      },
      "source": [
        "import torch.optim as optim\n",
        "\n",
        "loss_fn = nn.CrossEntropyLoss()\n",
        "opt = optim.Adam(net.parameters())"
      ],
      "execution_count": 0,
      "outputs": []
    },
    {
      "cell_type": "markdown",
      "metadata": {
        "id": "gKFVPNeC_g_t",
        "colab_type": "text"
      },
      "source": [
        "## Training without GPU"
      ]
    },
    {
      "cell_type": "code",
      "metadata": {
        "id": "-VrBjuSc8EP8",
        "colab_type": "code",
        "colab": {}
      },
      "source": [
        "# %%time\n",
        "# loss_arr = []\n",
        "# loss_epoch_arr = []\n",
        "# max_epochs = 16\n",
        "\n",
        "# for epoch in range(max_epochs):\n",
        "\n",
        "#     for i, data in enumerate(trainloader, 0):\n",
        "\n",
        "#         inputs, labels = data\n",
        "\n",
        "#         opt.zero_grad()\n",
        "\n",
        "#         outputs = net(inputs)\n",
        "#         loss = loss_fn(outputs, labels)\n",
        "#         loss.backward()\n",
        "#         opt.step()\n",
        "        \n",
        "#         loss_arr.append(loss.item())\n",
        "        \n",
        "#     loss_epoch_arr.append(loss.item())\n",
        "        \n",
        "#     print('Epoch: %d/%d, Test acc: %0.2f, Train acc: %0.2f' % (epoch, max_epochs, evaluation(testloader), evaluation(trainloader)))\n",
        "    \n",
        "    \n",
        "# plt.plot(loss_epoch_arr)\n",
        "# plt.show()"
      ],
      "execution_count": 0,
      "outputs": []
    },
    {
      "cell_type": "markdown",
      "metadata": {
        "id": "eEmyEWev_oVR",
        "colab_type": "text"
      },
      "source": [
        "## Training with GPU"
      ]
    },
    {
      "cell_type": "code",
      "metadata": {
        "id": "FNjucqvB_nE7",
        "colab_type": "code",
        "outputId": "fdd13604-d909-4867-d9a3-bc19602dce76",
        "colab": {
          "base_uri": "https://localhost:8080/",
          "height": 34
        }
      },
      "source": [
        "device = torch.device(\"cuda:0\" if torch.cuda.is_available() else \"cpu\")\n",
        "print(device)"
      ],
      "execution_count": 22,
      "outputs": [
        {
          "output_type": "stream",
          "text": [
            "cuda:0\n"
          ],
          "name": "stdout"
        }
      ]
    },
    {
      "cell_type": "code",
      "metadata": {
        "id": "3a2p6aAkheLH",
        "colab_type": "code",
        "colab": {}
      },
      "source": [
        "def evaluation(dataloader):\n",
        "    total, correct = 0, 0\n",
        "    for data in dataloader:\n",
        "        inputs, labels = data\n",
        "        inputs, labels = inputs.to(device), labels.to(device)\n",
        "        outputs = net(inputs)\n",
        "        _, pred = torch.max(outputs.data, 1)\n",
        "        total += labels.size(0)\n",
        "        correct += (pred == labels).sum().item()\n",
        "    return 100 * correct / total"
      ],
      "execution_count": 0,
      "outputs": []
    },
    {
      "cell_type": "code",
      "metadata": {
        "id": "yTeqFtLVAA_-",
        "colab_type": "code",
        "colab": {}
      },
      "source": [
        "net = LeNet().to(device)\n",
        "loss_fn = nn.CrossEntropyLoss()\n",
        "opt = optim.Adam(net.parameters())"
      ],
      "execution_count": 0,
      "outputs": []
    },
    {
      "cell_type": "code",
      "metadata": {
        "id": "eJjM-nvNAFmg",
        "colab_type": "code",
        "outputId": "50e71e00-0809-4b7a-a6ab-519638ec90cd",
        "colab": {
          "base_uri": "https://localhost:8080/",
          "height": 330
        }
      },
      "source": [
        "%%time\n",
        "max_epochs = 16\n",
        "loss_arr = []\n",
        "loss_epoch_arr = []\n",
        "\n",
        "for epoch in range(max_epochs):\n",
        "\n",
        "    for i, data in enumerate(trainloader, 0):\n",
        "\n",
        "        inputs, labels = data\n",
        "        inputs, labels = inputs.to(device), labels.to(device)\n",
        "\n",
        "        opt.zero_grad()\n",
        "\n",
        "        outputs = net(inputs)\n",
        "        loss = loss_fn(outputs, labels)\n",
        "        loss.backward()\n",
        "        opt.step()\n",
        "\n",
        "        loss_arr.append(loss.item())\n",
        "        \n",
        "    loss_epoch_arr.append(loss.item())\n",
        "        \n",
        "    print('Epoch: %d/%d, Test acc: %0.2f, Train acc: %0.2f' % (epoch, max_epochs, evaluation(testloader), evaluation(trainloader)))\n",
        "        \n",
        "    #print('Epoch: %d/%d' % (epoch, max_epochs))"
      ],
      "execution_count": 26,
      "outputs": [
        {
          "output_type": "stream",
          "text": [
            "Epoch: 0/16, Test acc: 12.62, Train acc: 12.71\n",
            "Epoch: 1/16, Test acc: 16.03, Train acc: 16.74\n",
            "Epoch: 2/16, Test acc: 17.78, Train acc: 19.06\n",
            "Epoch: 3/16, Test acc: 19.77, Train acc: 20.71\n",
            "Epoch: 4/16, Test acc: 20.22, Train acc: 22.30\n",
            "Epoch: 5/16, Test acc: 21.19, Train acc: 23.88\n",
            "Epoch: 6/16, Test acc: 22.00, Train acc: 24.74\n",
            "Epoch: 7/16, Test acc: 22.66, Train acc: 25.63\n",
            "Epoch: 8/16, Test acc: 23.56, Train acc: 27.01\n",
            "Epoch: 9/16, Test acc: 23.55, Train acc: 27.66\n",
            "Epoch: 10/16, Test acc: 24.21, Train acc: 28.66\n",
            "Epoch: 11/16, Test acc: 23.97, Train acc: 29.22\n",
            "Epoch: 12/16, Test acc: 24.35, Train acc: 30.16\n",
            "Epoch: 13/16, Test acc: 24.56, Train acc: 30.71\n",
            "Epoch: 14/16, Test acc: 24.66, Train acc: 31.42\n",
            "Epoch: 15/16, Test acc: 25.28, Train acc: 32.52\n",
            "CPU times: user 2min 48s, sys: 1.06 s, total: 2min 49s\n",
            "Wall time: 2min 49s\n"
          ],
          "name": "stdout"
        }
      ]
    }
  ]
}